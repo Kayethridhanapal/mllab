{
  "nbformat": 4,
  "nbformat_minor": 0,
  "metadata": {
    "colab": {
      "provenance": []
    },
    "kernelspec": {
      "name": "python3",
      "display_name": "Python 3"
    },
    "language_info": {
      "name": "python"
    }
  },
  "cells": [
    {
      "cell_type": "code",
      "execution_count": 1,
      "metadata": {
        "colab": {
          "base_uri": "https://localhost:8080/"
        },
        "id": "3BIzvjDdMeBD",
        "outputId": "b7a0352d-1be8-407e-9ae7-43e2a283b085"
      },
      "outputs": [
        {
          "output_type": "stream",
          "name": "stdout",
          "text": [
            "Gaussian Naive Bayes model accuracy(in %): 95.0\n"
          ]
        }
      ],
      "source": [
        "#load the iris dataset\n",
        "from sklearn.datasets import load_iris \n",
        "iris=load_iris()\n",
        "\n",
        "#store the feature matrix(x) and response vector(y)\n",
        "x=iris.data\n",
        "y=iris.target\n",
        "\n",
        "\n",
        "\n",
        "#splitting x and y into training and testing datasets\n",
        "from sklearn.model_selection import train_test_split\n",
        "x_train,x_test,y_train,y_test=train_test_split(x,y,test_size=0.4,random_state=1)\n",
        "\n",
        "#trainig the model on training set\n",
        "from sklearn.naive_bayes import GaussianNB\n",
        "gnb=GaussianNB()\n",
        "gnb.fit(x_train,y_train)\n",
        "\n",
        "#making predictions on testing data\n",
        "y_pred=gnb.predict(x_test)\n",
        "\n",
        "#comparing actual response values (y_test) with predicted response values(y_pred)\n",
        "from sklearn import metrics\n",
        "print(\"Gaussian Naive Bayes model accuracy(in %):\",metrics.accuracy_score(y_test,y_pred)*100)\n"
      ]
    }
  ]
}